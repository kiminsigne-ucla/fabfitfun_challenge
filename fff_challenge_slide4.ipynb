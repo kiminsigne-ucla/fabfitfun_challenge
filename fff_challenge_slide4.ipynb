{
 "cells": [
  {
   "cell_type": "markdown",
   "metadata": {},
   "source": [
    "# FabFitFun Coding Challenge - Slide 4 #\n",
    "\n",
    "Author: Kimberly Insigne\n",
    "\n",
    "This notebook contains analysis for transaction data from a flash sale on the FabFitFun website.\n",
    "`product_data.xlsx` contains product IDs and product names. `sale_data.xlsx` contains member IDs,\n",
    "product IDs, and quantity of each item purchased."
   ]
  },
  {
   "cell_type": "code",
   "execution_count": 1,
   "metadata": {},
   "outputs": [
    {
     "name": "stdout",
     "output_type": "stream",
     "text": [
      "[nltk_data] Downloading package stopwords to\n",
      "[nltk_data]     /Users/Kimberly/nltk_data...\n",
      "[nltk_data]   Package stopwords is already up-to-date!\n"
     ]
    }
   ],
   "source": [
    "import pandas as pd\n",
    "import numpy as np\n",
    "import matplotlib\n",
    "import matplotlib.pyplot as plt\n",
    "import nltk\n",
    "nltk.download('stopwords')\n",
    "from nltk.corpus import stopwords\n",
    "import string\n",
    "from sklearn.feature_extraction.text import TfidfVectorizer\n",
    "from sklearn.metrics.pairwise import cosine_similarity\n",
    "from sklearn.cluster import KMeans\n",
    "from collections import Counter\n",
    "from scipy import stats\n",
    "\n",
    "%matplotlib inline"
   ]
  },
  {
   "cell_type": "code",
   "execution_count": 2,
   "metadata": {},
   "outputs": [],
   "source": [
    "product_data = pd.read_excel('product_data.xlsx')\n",
    "sale_data = pd.read_excel('sale_data.xlsx')\n",
    "sale_data = sale_data.merge(product_data, how='left', on='product_id')"
   ]
  },
  {
   "cell_type": "markdown",
   "metadata": {},
   "source": [
    "What type of products sell best? Can we categorize products based on their name? Let's explore using the word frequencies in the product names for clustering. The clustering will be weak because the product names are so short, but let's give it a try. First, let's look at the top occuring words so we can eliminate any words that appear frequently and aren't informative."
   ]
  },
  {
   "cell_type": "code",
   "execution_count": 3,
   "metadata": {},
   "outputs": [
    {
     "data": {
      "text/plain": [
       "179"
      ]
     },
     "execution_count": 3,
     "metadata": {},
     "output_type": "execute_result"
    }
   ],
   "source": [
    "ntlk_stopwords = set(stopwords.words('english'))\n",
    "len(ntlk_stopwords)"
   ]
  },
  {
   "cell_type": "code",
   "execution_count": 4,
   "metadata": {},
   "outputs": [],
   "source": [
    "def is_clean_word(word, stopwords):\n",
    "    '''\n",
    "    Checks for stopwords, digits, and punctuation\n",
    "    '''\n",
    "    chars = list(word)\n",
    "    if word in stopwords:\n",
    "        return False\n",
    "    elif any([char in string.punctuation for char in chars]):\n",
    "        return False\n",
    "    elif any([char.isdigit() for char in chars]):\n",
    "        return False\n",
    "    else:\n",
    "        return True"
   ]
  },
  {
   "cell_type": "code",
   "execution_count": 5,
   "metadata": {},
   "outputs": [
    {
     "data": {
      "text/plain": [
       "[(u'Variation', 1335),\n",
       " (u'FabFitFun', 504),\n",
       " (u'Box', 469),\n",
       " (u'Bundle', 273),\n",
       " (u'Fall', 262),\n",
       " (u'Summer', 259),\n",
       " (u'Line', 227),\n",
       " (u'Rose', 225),\n",
       " (u'Dot', 211),\n",
       " (u'Catherine', 150)]"
      ]
     },
     "execution_count": 5,
     "metadata": {},
     "output_type": "execute_result"
    }
   ],
   "source": [
    "words = [word for name in product_data.product_name.tolist() for word in name.split(' ')]\n",
    "words_clean = [word for word in words if is_clean_word(word, ntlk_stopwords)]\n",
    "words_clean_counter = Counter(words_clean).most_common(10)\n",
    "words_clean_counter"
   ]
  },
  {
   "cell_type": "code",
   "execution_count": 6,
   "metadata": {},
   "outputs": [
    {
     "data": {
      "text/plain": [
       "[u'Variation', u'FabFitFun', u'Box', u'Bundle', u'Fall', u'Summer']"
      ]
     },
     "execution_count": 6,
     "metadata": {},
     "output_type": "execute_result"
    }
   ],
   "source": [
    "top_words = [x[0] for x in words_clean_counter[0:6]]\n",
    "top_words"
   ]
  },
  {
   "cell_type": "markdown",
   "metadata": {},
   "source": [
    "The top words correspond to seasons, the company name, or generic descriptions such as \"box\" and \"bundle\". I'll choose not to consider these words since they are not very informative. I will set an upper limit of word frequency to 250 occurrences.\n",
    "\n",
    "Next, I will take each product name and count the frequency of each word in the name. To represent the word frequency, I'll use a numerical statistic known as tf-idf or term frequency-inverse document frequency, which reflects how important the word is. tf-idf value increases proportionally to the frequency of the word in the product name, and is offset by the number of product names that contain that word. This helps adjust for the fact that some words appear more frequently."
   ]
  },
  {
   "cell_type": "code",
   "execution_count": 7,
   "metadata": {},
   "outputs": [
    {
     "name": "stdout",
     "output_type": "stream",
     "text": [
      "(4140, 1848)\n"
     ]
    }
   ],
   "source": [
    "product_names = product_data['product_name'].tolist()\n",
    "tfidf_vec = TfidfVectorizer(input=product_names, \n",
    "                            analyzer='word', # split based on word\n",
    "                            strip_accents='unicode',\n",
    "                            stop_words=ntlk_stopwords, \n",
    "                            min_df=2, # remove any word that only appears once\n",
    "                            max_df=250) # max frequency determined from top words\n",
    "\n",
    "tfidf_mat = tfidf_vec.fit_transform(product_names) #fit the vectorizer to product names\n",
    "print(tfidf_mat.shape)"
   ]
  },
  {
   "cell_type": "markdown",
   "metadata": {},
   "source": [
    "I'll use k-means clustering to cluster product names based on their word frequency, as represented by the tf-idf matrix. K-means clustering creates a specified number of cluster centers and each point is assigned to the nearest cluster center. The goal is to minimize variance within the cluster. The mean of all points within the cluster is used to update cluster center, and this process is repeated until the clusters stabilize. \n",
    "\n",
    "Let's try a range of values for the number of clusters, k,  to determine the best number. As we increase k, the sum of squared errors (SSE) will decrease until we observe little improvement. We want to choose a small value of k that still has a low SSE. This can be visualized with an elbow plot."
   ]
  },
  {
   "cell_type": "code",
   "execution_count": 8,
   "metadata": {},
   "outputs": [],
   "source": [
    "sse = []\n",
    "k_min = 1\n",
    "k_max = 10\n",
    "for k in range(k_min, k_max+1):\n",
    "    km = KMeans(n_clusters=k, random_state=123)\n",
    "    km.fit(tfidf_mat)\n",
    "    sse.append(km.inertia_)"
   ]
  },
  {
   "cell_type": "code",
   "execution_count": 9,
   "metadata": {},
   "outputs": [
    {
     "data": {
      "text/plain": [
       "<matplotlib.collections.PathCollection at 0x10f463dd0>"
      ]
     },
     "execution_count": 9,
     "metadata": {},
     "output_type": "execute_result"
    },
    {
     "data": {
      "image/png": "[encoded data removed]",
      "text/plain": [
       "<Figure size 432x288 with 1 Axes>"
      ]
     },
     "metadata": {
      "needs_background": "light"
     },
     "output_type": "display_data"
    }
   ],
   "source": [
    "plt.plot(range(k_min, k_max+1), sse)\n",
    "plt.scatter(range(k_min, k_max+1), sse)"
   ]
  },
  {
   "cell_type": "markdown",
   "metadata": {},
   "source": [
    "We can see the elbow at k = 8, so we'll move forward with 8 clusters."
   ]
  },
  {
   "cell_type": "code",
   "execution_count": 10,
   "metadata": {},
   "outputs": [],
   "source": [
    "k = 8\n",
    "km = KMeans(n_clusters=k, random_state=123)\n",
    "km.fit(tfidf_mat)\n",
    "product_data['cluster'] = km.labels_"
   ]
  },
  {
   "cell_type": "code",
   "execution_count": 11,
   "metadata": {},
   "outputs": [
    {
     "data": {
      "text/plain": [
       "Counter({0: 149, 1: 73, 2: 110, 3: 223, 4: 65, 5: 3169, 6: 145, 7: 206})"
      ]
     },
     "execution_count": 11,
     "metadata": {},
     "output_type": "execute_result"
    }
   ],
   "source": [
    "Counter(km.labels_)"
   ]
  },
  {
   "cell_type": "code",
   "execution_count": 12,
   "metadata": {},
   "outputs": [],
   "source": [
    "def extract_cluster_top_words(names, stopwords, top_words):\n",
    "    words = [word for name in names for word in name.split(' ')]\n",
    "    words_clean = [word for word in words if is_clean_word(word, stopwords)]\n",
    "    words_clean_counter = Counter(words_clean)\n",
    "    most_common = [word for word in dict(words_clean_counter.most_common(20)).keys() if word not in top_words]\n",
    "    return most_common"
   ]
  },
  {
   "cell_type": "code",
   "execution_count": 13,
   "metadata": {},
   "outputs": [
    {
     "name": "stdout",
     "output_type": "stream",
     "text": [
      "0\n",
      "[u'Umbrella', u'Catherine', u'Choice', u'Oversize', u'Sunglasses', u'Malandrino']\n",
      "1\n",
      "[u'White', u'Earbuds', u'CYLO']\n",
      "2\n",
      "[u'Winter', u'Spring']\n",
      "3\n",
      "[u'Beanie', u'Sunglasses', u'Tote', u'Gold', u'Weekender', u'Sun', u'Rose', u'Blanket', u'Felt', u'Yoga', u'Bag', u'Clutch', u'Necklace', u'Towel', u'Beach', u'Candle', u'Hat', u'Throw']\n",
      "4\n",
      "[u'Legging', u'Magic', u'Electric', u'For', u'People', u'Tank', u'Accessories', u'Moonshadow', u'Jacket', u'Fierce', u'Method', u'Free', u'Lemons', u'Love', u'Yoga', u'Pack', u'Fame', u'Bra', u'Undie']\n",
      "5\n",
      "[u'Body', u'Set', u'Tote', u'Beauty', u'Duo', u'Mask', u'Kit', u'Bag', u'Oil', u'Lip', u'Necklace', u'Black', u'The', u'Raga', u'Cream']\n",
      "6\n",
      "[u'Ultimate', u'Trio', u'Eye', u'Complete', u'Gift', u'Duo', u'Shimmy', u'Dynamic', u'Contour', u'ISH', u'Lip', u'Stick', u'Line', u'Face', u'Arch', u'Shadow', u'You', u'Brush']\n",
      "7\n",
      "[u'Shoulder', u'White', u'Off', u'Neck', u'Sleeve', u'Hole', u'Top', u'Cap', u'Crew', u'Bodysuit', u'Cami', u'Black', u'Mock', u'Line', u'Strap', u'Dress', u'Cold', u'Dot', u'Mustard']\n"
     ]
    }
   ],
   "source": [
    "for cluster in list(set(product_data.cluster)):\n",
    "    print cluster\n",
    "    top_cluster_words = extract_cluster_top_words(product_data.product_name[product_data.cluster == cluster],\n",
    "                                                  list(ntlk_stopwords), top_words)\n",
    "    print top_cluster_words"
   ]
  },
  {
   "cell_type": "code",
   "execution_count": 14,
   "metadata": {
    "scrolled": true
   },
   "outputs": [
    {
     "data": {
      "text/html": [
       "<div>\n",
       "<style scoped>\n",
       "    .dataframe tbody tr th:only-of-type {\n",
       "        vertical-align: middle;\n",
       "    }\n",
       "\n",
       "    .dataframe tbody tr th {\n",
       "        vertical-align: top;\n",
       "    }\n",
       "\n",
       "    .dataframe thead th {\n",
       "        text-align: right;\n",
       "    }\n",
       "</style>\n",
       "<table border=\"1\" class=\"dataframe\">\n",
       "  <thead>\n",
       "    <tr style=\"text-align: right;\">\n",
       "      <th></th>\n",
       "      <th>quantity</th>\n",
       "      <th>product_name</th>\n",
       "      <th>cluster</th>\n",
       "    </tr>\n",
       "  </thead>\n",
       "  <tbody>\n",
       "    <tr>\n",
       "      <th>3071</th>\n",
       "      <td>28</td>\n",
       "      <td>10 Degrees Cooler 01 Luminous Face Oil</td>\n",
       "      <td>5</td>\n",
       "    </tr>\n",
       "    <tr>\n",
       "      <th>3072</th>\n",
       "      <td>28</td>\n",
       "      <td>10 Degrees Cooler 03 Midnight in Corsia Face Oil</td>\n",
       "      <td>5</td>\n",
       "    </tr>\n",
       "    <tr>\n",
       "      <th>4007</th>\n",
       "      <td>23</td>\n",
       "      <td>8 Other Reasons Capri Crawlers</td>\n",
       "      <td>5</td>\n",
       "    </tr>\n",
       "    <tr>\n",
       "      <th>4008</th>\n",
       "      <td>20</td>\n",
       "      <td>8 Other Reasons Gemmy Larait</td>\n",
       "      <td>5</td>\n",
       "    </tr>\n",
       "    <tr>\n",
       "      <th>4009</th>\n",
       "      <td>93</td>\n",
       "      <td>AHAVA Body Lotion Trio</td>\n",
       "      <td>5</td>\n",
       "    </tr>\n",
       "  </tbody>\n",
       "</table>\n",
       "</div>"
      ],
      "text/plain": [
       "      quantity                                      product_name  cluster\n",
       "3071        28            10 Degrees Cooler 01 Luminous Face Oil        5\n",
       "3072        28  10 Degrees Cooler 03 Midnight in Corsia Face Oil        5\n",
       "4007        23                    8 Other Reasons Capri Crawlers        5\n",
       "4008        20                      8 Other Reasons Gemmy Larait        5\n",
       "4009        93                            AHAVA Body Lotion Trio        5"
      ]
     },
     "execution_count": 14,
     "metadata": {},
     "output_type": "execute_result"
    }
   ],
   "source": [
    "sale_data = sale_data.merge(product_data[['product_id', 'cluster']], on='product_id', how='left')\n",
    "sale_summary = sale_data[['product_name', 'quantity']].groupby(['product_name']).sum()\n",
    "sale_summary = sale_summary.merge(product_data[['product_name', 'cluster']], \n",
    "                                  right_on='product_name', left_index=True, how='left')\n",
    "sale_summary.head()"
   ]
  },
  {
   "cell_type": "code",
   "execution_count": 15,
   "metadata": {},
   "outputs": [
    {
     "data": {
      "image/png": "[encoded data removed]",
      "text/plain": [
       "<Figure size 720x576 with 1 Axes>"
      ]
     },
     "metadata": {
      "needs_background": "light"
     },
     "output_type": "display_data"
    }
   ],
   "source": [
    "fig, ax = plt.subplots(figsize=(10,8))\n",
    "sale_summary.boxplot(column=['quantity'], by='cluster', ax=ax)\n",
    "plt.suptitle('')\n",
    "plt.title('Product Sales by Category')\n",
    "ax.set_xlabel('Category Number')\n",
    "ax.set_ylabel('Number Sold')\n",
    "plt.rcParams.update({'font.size': 5})"
   ]
  },
  {
   "cell_type": "markdown",
   "metadata": {},
   "source": [
    "Visually, it seems Category 5 has higher sales on average. We can run a quick ANOVA to check if there's a significant difference in group means between these three categories."
   ]
  },
  {
   "cell_type": "code",
   "execution_count": 16,
   "metadata": {},
   "outputs": [
    {
     "data": {
      "text/plain": [
       "F_onewayResult(statistic=5.725902268068254, pvalue=0.0036414743580201357)"
      ]
     },
     "execution_count": 16,
     "metadata": {},
     "output_type": "execute_result"
    }
   ],
   "source": [
    "cat_accessories = sale_summary[sale_summary.cluster == 3]\n",
    "cat_body = sale_summary[sale_summary.cluster == 5]\n",
    "cat_beauty = sale_summary[sale_summary.cluster == 6]\n",
    "\n",
    "stats.f_oneway(cat_accessories['quantity'], cat_body['quantity'], cat_beauty['quantity'])"
   ]
  }
 ],
 "metadata": {
  "kernelspec": {
   "display_name": "Python [conda env:anaconda2]",
   "language": "python",
   "name": "conda-env-anaconda2-py"
  },
  "language_info": {
   "codemirror_mode": {
    "name": "ipython",
    "version": 2
   },
   "file_extension": ".py",
   "mimetype": "text/x-python",
   "name": "python",
   "nbconvert_exporter": "python",
   "pygments_lexer": "ipython2",
   "version": "2.7.16"
  }
 },
 "nbformat": 4,
 "nbformat_minor": 2
}
